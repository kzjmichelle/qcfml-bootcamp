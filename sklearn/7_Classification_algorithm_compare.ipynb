{
 "cells": [
  {
   "cell_type": "code",
   "execution_count": 1,
   "source": [
    "%matplotlib inline"
   ],
   "outputs": [],
   "metadata": {}
  },
  {
   "cell_type": "markdown",
   "source": [
    "##  Classification algrorithm comparision"
   ],
   "metadata": {}
  },
  {
   "cell_type": "markdown",
   "source": [
    "Plot the classification accuracy for different classifiers: a Support Vector classifier, L1 and L2 penalized logistic regression with either a One-Vs-Rest or multinomial setting, and Gaussian process classification.\n",
    "\n",
    "The logistic regression with One-Vs-Rest is not a multiclass classifier out of the box. As a result it has more trouble in separating class 2 and 3 than the other estimators."
   ],
   "metadata": {}
  },
  {
   "cell_type": "code",
   "execution_count": 2,
   "source": [
    "%matplotlib inline\r\n",
    "\r\n",
    "# Author: Alexandre Gramfort <alexandre.gramfort@inria.fr>\r\n",
    "# License: BSD 3 clause\r\n",
    "\r\n",
    "import matplotlib.pyplot as plt\r\n",
    "import numpy as np\r\n",
    "\r\n",
    "from sklearn.metrics import accuracy_score\r\n",
    "from sklearn.linear_model import LogisticRegression\r\n",
    "from sklearn.svm import SVC\r\n",
    "from sklearn.gaussian_process import GaussianProcessClassifier\r\n",
    "from sklearn.gaussian_process.kernels import RBF\r\n",
    "from sklearn import datasets\r\n",
    "\r\n",
    "iris = datasets.load_iris()\r\n",
    "X = iris.data[:, 0:2]  # we only take the first two features for visualization\r\n",
    "y = iris.target\r\n",
    "\r\n",
    "n_features = X.shape[1]\r\n",
    "\r\n",
    "C = 10\r\n",
    "kernel = 1.0 * RBF([1.0, 1.0])  # for GPC\r\n",
    "\r\n",
    "# Create different classifiers.\r\n",
    "classifiers = {\r\n",
    "    'L1 logistic': LogisticRegression(C=C, penalty='l1',\r\n",
    "                                      solver='saga',\r\n",
    "                                      multi_class='multinomial',\r\n",
    "                                      max_iter=10000),\r\n",
    "    'L2 logistic (Multinomial)': LogisticRegression(C=C, penalty='l2',\r\n",
    "                                                    solver='saga',\r\n",
    "                                                    multi_class='multinomial',\r\n",
    "                                                    max_iter=10000),\r\n",
    "    'L2 logistic (OvR)': LogisticRegression(C=C, penalty='l2',\r\n",
    "                                            solver='saga',\r\n",
    "                                            multi_class='ovr',\r\n",
    "                                            max_iter=10000),\r\n",
    "    'Linear SVC': SVC(kernel='linear', C=C, probability=True,\r\n",
    "                      random_state=0),\r\n",
    "    'GPC': GaussianProcessClassifier(kernel)\r\n",
    "}\r\n",
    "# C:regularization\r\n",
    "#For small datasets, ‘liblinear’ is a good choice, \r\n",
    "#whereas ‘sag’ and ‘saga’ are faster for large ones.\r\n",
    "# max_iter: Maximum number of iterations taken for the solvers to converge\r\n",
    "n_classifiers = len(classifiers)\r\n",
    "\r\n",
    "for index, (name, classifier) in enumerate(classifiers.items()):\r\n",
    "    classifier.fit(X, y)\r\n",
    "\r\n",
    "    y_pred = classifier.predict(X)\r\n",
    "    accuracy = accuracy_score(y, y_pred)\r\n",
    "    print(\"Accuracy (train) for %s: %0.1f%% \" % (name, accuracy * 100))"
   ],
   "outputs": [
    {
     "output_type": "stream",
     "name": "stdout",
     "text": [
      "Accuracy (train) for L1 logistic: 83.3% \n",
      "Accuracy (train) for L2 logistic (Multinomial): 82.7% \n",
      "Accuracy (train) for L2 logistic (OvR): 79.3% \n",
      "Accuracy (train) for Linear SVC: 82.0% \n",
      "Accuracy (train) for GPC: 82.7% \n"
     ]
    }
   ],
   "metadata": {}
  },
  {
   "cell_type": "markdown",
   "source": [
    "## Exercise: add more algorithms to compare"
   ],
   "metadata": {}
  },
  {
   "cell_type": "code",
   "execution_count": null,
   "source": [],
   "outputs": [],
   "metadata": {}
  }
 ],
 "metadata": {
  "kernelspec": {
   "name": "python3",
   "display_name": "Python 3.7.10 64-bit ('qcfml-bootcamp': conda)"
  },
  "language_info": {
   "codemirror_mode": {
    "name": "ipython",
    "version": 3
   },
   "file_extension": ".py",
   "mimetype": "text/x-python",
   "name": "python",
   "nbconvert_exporter": "python",
   "pygments_lexer": "ipython3",
   "version": "3.7.10"
  },
  "interpreter": {
   "hash": "a882f9c801e38803e729e5d4d4cfae419c4d17c22fddc44c05c8f4a6b06197cb"
  }
 },
 "nbformat": 4,
 "nbformat_minor": 2
}